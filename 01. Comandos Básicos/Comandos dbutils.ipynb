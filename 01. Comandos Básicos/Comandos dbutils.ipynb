{
 "cells": [
  {
   "cell_type": "markdown",
   "metadata": {
    "application/vnd.databricks.v1+cell": {
     "cellMetadata": {},
     "inputWidgets": {},
     "nuid": "584edacd-b1bb-4010-84d5-03b5553e15d4",
     "showTitle": false,
     "tableResultSettingsMap": {},
     "title": ""
    }
   },
   "source": [
    "##### Volumes e dbutils \n",
    "No Databricks, a transição do uso de montagens DBFS (Databricks File System) para Volumes no Unity Catalog é recomendada para gerenciar dados não tabulares. Os volumes oferecem uma abordagem mais governada e estruturada para armazenamento e acesso a dados no Unity Catalog.\n",
    "\n",
    "https://docs.databricks.com/aws/en/files/volumes\n",
    "\n",
    "Referência de Utilitários Databricks (dbutils)\n",
    "\n",
    "https://learn.microsoft.com/pt-pt/azure/databricks/dev-tools/databricks-utils\n"
   ]
  },
  {
   "cell_type": "code",
   "execution_count": 0,
   "metadata": {
    "application/vnd.databricks.v1+cell": {
     "cellMetadata": {
      "byteLimit": 2048000,
      "rowLimit": 10000
     },
     "inputWidgets": {},
     "nuid": "1ab4bead-6db9-489f-9b0a-772d75e7f2d4",
     "showTitle": false,
     "tableResultSettingsMap": {},
     "title": ""
    },
    "jupyter": {
     "outputs_hidden": true
    }
   },
   "outputs": [],
   "source": [
    "\"\"\"\n",
    "Função: Lista todas as classes e métodos disponíveis dentro do dbutils.\n",
    "\n",
    "Notas para estudo/exame:\n",
    "- Mostra de forma hierárquica os módulos (fs, widgets, notebook, secrets, etc.).\n",
    "- Útil quando você não lembra o nome exato de um método.\n",
    "- Não retorna documentação detalhada, apenas a lista de métodos.\n",
    "\"\"\"\n",
    "\n",
    "dbutils.help()"
   ]
  },
  {
   "cell_type": "code",
   "execution_count": 0,
   "metadata": {
    "application/vnd.databricks.v1+cell": {
     "cellMetadata": {
      "byteLimit": 2048000,
      "rowLimit": 10000
     },
     "inputWidgets": {},
     "nuid": "1c0220ef-bec2-4a41-aa30-09420f558d39",
     "showTitle": false,
     "tableResultSettingsMap": {},
     "title": ""
    },
    "jupyter": {
     "outputs_hidden": true
    }
   },
   "outputs": [],
   "source": [
    "\"\"\"\n",
    "Função: Lista apenas os métodos do módulo fs (File System).\n",
    "O fs é usado para manipular arquivos no DBFS (Databricks File System).\n",
    "\n",
    "Notas para estudo/exame:\n",
    "- Métodos comuns: ls, cp, mv, rm, put, head.\n",
    "- Sempre começa com / no caminho do arquivo/diretório.\n",
    "\"\"\"\n",
    "\n",
    "dbutils.fs.help()"
   ]
  },
  {
   "cell_type": "markdown",
   "metadata": {
    "application/vnd.databricks.v1+cell": {
     "cellMetadata": {},
     "inputWidgets": {},
     "nuid": "0f6b9053-6f8c-4c7e-a8df-2fe4386aab28",
     "showTitle": false,
     "tableResultSettingsMap": {},
     "title": ""
    }
   },
   "source": [
    "####Traduzido\n",
    "cp: Copia arquivo/diretório para outro local (recursivo opcional).\n",
    "\n",
    "head: Retorna os primeiros bytes de um arquivo como string UTF-8.\n",
    "\n",
    "ls: Lista o conteúdo de um diretório.\n",
    "\n",
    "mkdirs: Cria diretório, incluindo diretórios-pai se necessário.\n",
    "\n",
    "mv: Move arquivo/diretório para outro local (recursivo opcional).\n",
    "\n",
    "put: Escreve string em um arquivo como UTF-8 (sobrescrita opcional).\n",
    "\n",
    "rm: Remove arquivo/diretório (recursivo opcional).\n",
    "\n",
    "\"Recursivo\" significa que a operação será aplicada de forma repetitiva a todos os itens dentro de uma estrutura, como subdiretórios e arquivos contidos em um diretório."
   ]
  },
  {
   "cell_type": "code",
   "execution_count": 0,
   "metadata": {
    "application/vnd.databricks.v1+cell": {
     "cellMetadata": {
      "byteLimit": 2048000,
      "rowLimit": 10000
     },
     "inputWidgets": {},
     "nuid": "fa6ea487-06c9-4a3f-8e70-ade6bfe36249",
     "showTitle": false,
     "tableResultSettingsMap": {
      "0": {
       "dataGridStateBlob": "{\"version\":1,\"tableState\":{\"columnPinning\":{\"left\":[\"#row_number#\"],\"right\":[]},\"columnSizing\":{\"path\":167},\"columnVisibility\":{}},\"settings\":{\"columns\":{}},\"syncTimestamp\":1755093530141}",
       "filterBlob": null,
       "queryPlanFiltersBlob": null,
       "tableResultIndex": 0
      }
     },
     "title": ""
    }
   },
   "outputs": [],
   "source": [
    "\"\"\"\n",
    "Função: Lista o conteúdo do diretório raiz / no DBFS.\n",
    "\n",
    "Retorna um DataFrame com colunas path, name e size.\n",
    "O display() renderiza o resultado de forma visual (tabela) no notebook do Databricks.\n",
    "\n",
    "Notas para estudo/exame:\n",
    "- ls é equivalente a \"listar diretório\" no terminal (ls no Linux).\n",
    "- display() não é obrigatório; sem ele, o Spark retorna o resultado no formato padrão do Python.\n",
    "- No exame, saiba diferenciar display() (formatação visual no Databricks) de show() (método Spark).\n",
    "\"\"\"\n",
    "\n",
    "display(dbutils.fs.ls('/'))"
   ]
  },
  {
   "cell_type": "code",
   "execution_count": 0,
   "metadata": {
    "application/vnd.databricks.v1+cell": {
     "cellMetadata": {
      "byteLimit": 2048000,
      "rowLimit": 10000
     },
     "inputWidgets": {},
     "nuid": "50df9fe8-88ec-4f7e-91d1-4c18ad41cd91",
     "showTitle": false,
     "tableResultSettingsMap": {
      "0": {
       "dataGridStateBlob": "{\"version\":1,\"tableState\":{\"columnPinning\":{\"left\":[\"#row_number#\"],\"right\":[]},\"columnSizing\":{\"path\":369},\"columnVisibility\":{}},\"settings\":{\"columns\":{}},\"syncTimestamp\":1755093802002}",
       "filterBlob": null,
       "queryPlanFiltersBlob": null,
       "tableResultIndex": 0
      }
     },
     "title": ""
    }
   },
   "outputs": [],
   "source": [
    "# O caminho /Volumes/ é usado no Unity Catalog para acessar dados governados.\n",
    "# A estrutura /Volumes/<catalog>/<schema>/<table> é padrão no Unity Catalog.\n",
    "\n",
    "display(dbutils.fs.ls('/Volumes/workspace/default/datasets'))"
   ]
  },
  {
   "cell_type": "code",
   "execution_count": 0,
   "metadata": {
    "application/vnd.databricks.v1+cell": {
     "cellMetadata": {
      "byteLimit": 2048000,
      "rowLimit": 10000
     },
     "inputWidgets": {},
     "nuid": "e18886df-32c6-4676-9348-543e9540317e",
     "showTitle": false,
     "tableResultSettingsMap": {},
     "title": ""
    }
   },
   "outputs": [],
   "source": [
    "dbutils.fs.mkdirs('/Volumes/workspace/default/datasets/criando_pasta')"
   ]
  },
  {
   "cell_type": "code",
   "execution_count": 0,
   "metadata": {
    "application/vnd.databricks.v1+cell": {
     "cellMetadata": {
      "byteLimit": 2048000,
      "rowLimit": 10000
     },
     "inputWidgets": {},
     "nuid": "102c127d-fadb-4081-a09c-f7276318a027",
     "showTitle": false,
     "tableResultSettingsMap": {},
     "title": ""
    }
   },
   "outputs": [],
   "source": [
    "# Renomeando ou movendo arquivos\n",
    "# Quando a origem e o destino estão no mesmo diretório pai, você está renomeando a pasta/arquivo.\n",
    "# Quando a origem e o destino estão em diretórios diferentes, você está movendo a pasta/arquivo para outro local.\n",
    "\n",
    "dbutils.fs.mv('/Volumes/workspace/default/datasets/criando_pasta','/Volumes/workspace/default/datasets/criando_pasta_nova/',True)"
   ]
  },
  {
   "cell_type": "code",
   "execution_count": 0,
   "metadata": {
    "application/vnd.databricks.v1+cell": {
     "cellMetadata": {
      "byteLimit": 2048000,
      "rowLimit": 10000
     },
     "inputWidgets": {},
     "nuid": "00a6b268-09bb-433f-afd7-d23f83209a94",
     "showTitle": false,
     "tableResultSettingsMap": {
      "0": {
       "dataGridStateBlob": "{\"version\":1,\"tableState\":{\"columnPinning\":{\"left\":[\"#row_number#\"],\"right\":[]},\"columnSizing\":{\"path\":418},\"columnVisibility\":{}},\"settings\":{\"columns\":{}},\"syncTimestamp\":1755094041577}",
       "filterBlob": null,
       "queryPlanFiltersBlob": null,
       "tableResultIndex": 0
      }
     },
     "title": ""
    }
   },
   "outputs": [],
   "source": [
    "# Listando o que tem dentro da pasta Dados IBGE\n",
    "\n",
    "display(dbutils.fs.ls('/Volumes/workspace/default/datasets/Dados-IBGE/'))"
   ]
  },
  {
   "cell_type": "code",
   "execution_count": 0,
   "metadata": {
    "application/vnd.databricks.v1+cell": {
     "cellMetadata": {
      "byteLimit": 2048000,
      "rowLimit": 10000
     },
     "inputWidgets": {},
     "nuid": "5b7ce049-fca1-4436-b7f6-c55bfad82fd0",
     "showTitle": false,
     "tableResultSettingsMap": {},
     "title": ""
    }
   },
   "outputs": [],
   "source": [
    "bikeSharing_arquivo ='/Volumes/workspace/default/datasets/bikeSharing/data-001/day.csv'\n",
    "\n",
    "df= spark.read.csv(\n",
    "    bikeSharing_arquivo,\n",
    "    header=True,\n",
    "    inferSchema=True,\n",
    "    sep=',')\n",
    "\n",
    "display(df)"
   ]
  },
  {
   "cell_type": "code",
   "execution_count": 0,
   "metadata": {
    "application/vnd.databricks.v1+cell": {
     "cellMetadata": {},
     "inputWidgets": {},
     "nuid": "45dc2a6d-f962-4b11-861e-7b2d32aa255a",
     "showTitle": false,
     "tableResultSettingsMap": {},
     "title": ""
    }
   },
   "outputs": [],
   "source": [
    "spark.read.csv  # Lendo arquivos CSV com Spark\n",
    "header=True # Indica que a primeira linha do CSV contém os nomes das colunas.\n",
    "inferSchema=True # Faz o Spark inferir automaticamente o tipo de dados de cada coluna (int, string, float, etc.).\n",
    "sep=',' # Define o separador entre os valores do CSV (vírgula por padrão)."
   ]
  },
  {
   "cell_type": "code",
   "execution_count": 0,
   "metadata": {
    "application/vnd.databricks.v1+cell": {
     "cellMetadata": {
      "byteLimit": 2048000,
      "rowLimit": 10000
     },
     "inputWidgets": {},
     "nuid": "5ffe6d4e-9c99-4fae-8b09-fec81df85b84",
     "showTitle": false,
     "tableResultSettingsMap": {},
     "title": ""
    }
   },
   "outputs": [],
   "source": [
    "arquivo = '/Volumes/workspace/default/datasets/bikeSharing/data-001/day.csv'\n",
    "dbutils.fs.rm(arquivo) # removendo arquivo"
   ]
  }
 ],
 "metadata": {
  "application/vnd.databricks.v1+notebook": {
   "computePreferences": null,
   "dashboards": [],
   "environmentMetadata": null,
   "inputWidgetPreferences": null,
   "language": "python",
   "notebookMetadata": {
    "mostRecentlyExecutedCommandWithImplicitDF": {
     "commandId": -1,
     "dataframes": [
      "_sqldf"
     ]
    },
    "pythonIndentUnit": 4
   },
   "notebookName": "Comandos dbutils",
   "widgets": {}
  },
  "language_info": {
   "name": "python"
  }
 },
 "nbformat": 4,
 "nbformat_minor": 0
}
